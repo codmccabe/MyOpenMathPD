{
 "cells": [
  {
   "cell_type": "markdown",
   "id": "c1eb74f0-85a3-4159-bf9f-92e462db84d6",
   "metadata": {},
   "source": [
    "# Time Conversion Unit\n",
    "\n",
    "This is a collection of time conversion questions for week 1 assignment."
   ]
  },
  {
   "attachments": {},
   "cell_type": "markdown",
   "id": "1b4da6ff-6ee3-48af-8755-125867850d29",
   "metadata": {},
   "source": [
    "## Question 1\n",
    "\n",
    "* How many days in `$a` weeks? `$answerbox[0]`\n",
    "* How many minutes in `$b` weeks? `$answerbox[1]`\n",
    "\n",
    "### Comments\n",
    "\n",
    "![images/question1.png](images/question1.png)\n",
    "\n"
   ]
  },
  {
   "cell_type": "markdown",
   "id": "c1d4b943-86fd-4e7e-9053-c307b532c5db",
   "metadata": {},
   "source": [
    "## Code\n",
    "\n",
    "Question type = Multipart\n",
    "\n",
    "```\n",
    "$anstypes = array(\"calculated\",\"calculated\")\n",
    "\n",
    "$a,$b = diffrands(2,5,2)\n",
    "\n",
    "$answer[0] = 7*$a\n",
    "$answer[1] = 7*24*60*$b\n",
    "```\n",
    "\n",
    "### Comments\n",
    "\n",
    "You may want to change `$answertypes = array(\"calculated\",\"calculated\")` to `$answertypes = array(\"number\",\"number\")` This way students have to acctually calculate the answer instead of just writing \"$7\\times \\$a$\"."
   ]
  },
  {
   "cell_type": "code",
   "execution_count": 2,
   "id": "a4326045-a940-4628-a8e1-5b4cc8433901",
   "metadata": {},
   "outputs": [
    {
     "data": {
      "text/latex": [
       "\\[\\tag{${\\it \\%o}_{4}$}{\\it dw}\\left(a\\right):=7\\,a\\]"
      ],
      "text/plain": [
       "(%o4)                            dw(a) := 7 a"
      ],
      "text/x-maxima": [
       "dw(a):=7*a"
      ]
     },
     "execution_count": 2,
     "metadata": {},
     "output_type": "execute_result"
    },
    {
     "data": {
      "text/latex": [
       "\\[\\tag{${\\it \\%o}_{5}$}{\\it mw}\\left(b\\right):=7\\,24\\,60\\,b\\]"
      ],
      "text/plain": [
       "(%o5)                         mw(b) := 7 24 60 b"
      ],
      "text/x-maxima": [
       "mw(b):=7*24*60*b"
      ]
     },
     "execution_count": 2,
     "metadata": {},
     "output_type": "execute_result"
    },
    {
     "data": {
      "text/latex": [
       "\\[\\tag{${\\it \\%o}_{6}$}14\\]"
      ],
      "text/plain": [
       "(%o6)                                 14"
      ],
      "text/x-maxima": [
       "14"
      ]
     },
     "execution_count": 2,
     "metadata": {},
     "output_type": "execute_result"
    },
    {
     "data": {
      "text/latex": [
       "\\[\\tag{${\\it \\%o}_{7}$}20160\\]"
      ],
      "text/plain": [
       "(%o7)                                20160"
      ],
      "text/x-maxima": [
       "20160"
      ]
     },
     "execution_count": 2,
     "metadata": {},
     "output_type": "execute_result"
    }
   ],
   "source": [
    "dw(a):=7*a;\n",
    "mw(b):=7*24*60*b;\n",
    "dw(2); mw(2);"
   ]
  },
  {
   "cell_type": "code",
   "execution_count": null,
   "id": "300c4d41-0124-4b65-86df-c99858d500c0",
   "metadata": {},
   "outputs": [],
   "source": []
  }
 ],
 "metadata": {
  "kernelspec": {
   "display_name": "Maxima",
   "language": "maxima",
   "name": "maxima"
  },
  "language_info": {
   "codemirror_mode": "maxima",
   "file_extension": ".mac",
   "mimetype": "text/x-maxima",
   "name": "maxima",
   "pygments_lexer": "maxima",
   "version": "5.45.1"
  }
 },
 "nbformat": 4,
 "nbformat_minor": 5
}
