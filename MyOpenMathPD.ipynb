{
 "cells": [
  {
   "cell_type": "markdown",
   "id": "b30408f4-4103-4fb6-9da9-b7ebac25bb16",
   "metadata": {},
   "source": [
    "# My Open Math PD"
   ]
  },
  {
   "cell_type": "markdown",
   "id": "cb10a19a-e254-4c02-bfe1-e208e93c52b3",
   "metadata": {},
   "source": [
    "## Question Text\n",
    "\n",
    "$image\n",
    "\n",
    "The current density in a cylindrical wire of radius `R=$R` mm is uniform accross a cross section of the wire and is `J=$J\\times 10^5` `A/m^2`. What is the current through the outre portion of the wire between radial distances `R/2` and `R`?\n",
    "\n",
    "Because the current density is uniform across the corss section, the current density `J`, the current `i`, and the corss-sctional area `A` are related to `J=i/A`.\n",
    "\n",
    "We want only the current through a reduced cross-sectional area `A_O` of the wire (rather than the entire area), where the equation we desire in terms of `R` is:\n",
    "\n",
    "`A_O=` $answerbox[0] (Use `R` for you variables).\n",
    "\n",
    "Plugging in what we know we have `A_O=` $answerbox[1]\n",
    "\n",
    "What equation should be used to find the current in terms of `i`, `J`, and `A_O`? $answerbox[2]\n",
    "\n",
    "What is the current through the outer protion? $answerbox[3]"
   ]
  },
  {
   "cell_type": "markdown",
   "id": "ef6e8432-7e73-4b1e-a5e7-27349500abd2",
   "metadata": {},
   "source": [
    "## Code\n",
    "\n",
    "```\n",
    "$anstypes = array(\"numfunc\",\"calculated\",\"numfunc\",\"calculated\",\"choices\")\n",
    "$variables = \"R,i,J,A_O\"\n",
    "\n",
    "$J = prettysigfig(rrand(1,3,0.1),2)\n",
    "$R = prettysigfig(rrand(1,3,0.1),2)\n",
    "\n",
    "$answer[0] = \"pi R^2 - pi (R/2)^2\"\n",
    "$AO = pi ($R*10^(-3))^2 - pi (($R*10^(-3)/2))^2\n",
    "$answer[1] = prettysigfig($AO,2)\n",
    "$answerformat[2] = \"equation\"\n",
    "$answer[2] = \"i=JA_O\"\n",
    "$C = ($J*10^5)*($AO)\n",
    "$answer[3] = prettysigfig($C,2)\n",
    "$choices[4] = array(\"`A`\",\"`m`\",\"`m^2`\",\"`A/m^2`\")\n",
    "$displayformat = \"select\"\n",
    "$answer[4] = 0\n",
    "```"
   ]
  },
  {
   "cell_type": "code",
   "execution_count": 10,
   "id": "b6c4bccb-0c7e-4952-beb8-8c112ce60334",
   "metadata": {},
   "outputs": [
    {
     "data": {
      "text/latex": [
       "\\[\\tag{${\\it \\%o}_{16}$}A\\left(R\\right):=\\pi\\,R^2-\\pi\\,\\left(\\frac{R}{2}\\right)^2\\]"
      ],
      "text/plain": [
       "                                        2        R 2\n",
       "(%o16)                     A(R) := %pi R  - %pi (-)\n",
       "                                                 2"
      ],
      "text/x-maxima": [
       "A(R):=%pi*R^2-%pi*(R/2)^2"
      ]
     },
     "execution_count": 10,
     "metadata": {},
     "output_type": "execute_result"
    },
    {
     "data": {
      "text/latex": [
       "\\[\\tag{${\\it \\%o}_{17}$}7.634070148223198 \\times 10^{-6}\\]"
      ],
      "text/plain": [
       "(%o17)                       7.634070148223198e-6"
      ],
      "text/x-maxima": [
       "7.634070148223198e-6"
      ]
     },
     "execution_count": 10,
     "metadata": {},
     "output_type": "execute_result"
    }
   ],
   "source": [
    "A(R):=%pi*R^2-%pi*(R/2)^2;\n",
    "float(A(1.8*10^(-3)));\n"
   ]
  },
  {
   "cell_type": "code",
   "execution_count": null,
   "id": "8e95505c-0747-47d0-a253-c3e415cbc139",
   "metadata": {},
   "outputs": [],
   "source": []
  }
 ],
 "metadata": {
  "kernelspec": {
   "display_name": "Maxima",
   "language": "maxima",
   "name": "maxima"
  },
  "language_info": {
   "codemirror_mode": "maxima",
   "file_extension": ".mac",
   "mimetype": "text/x-maxima",
   "name": "maxima",
   "pygments_lexer": "maxima",
   "version": "5.45.1"
  }
 },
 "nbformat": 4,
 "nbformat_minor": 5
}
